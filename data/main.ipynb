{
  "cells": [
    {
      "cell_type": "markdown",
      "metadata": {
        "_uuid": "385e43a763cf2a2e696526612151db7c079f8909",
        "id": "7LurnnalrAri"
      },
      "source": [
        "# Sign Language with Deep Learning"
      ]
    },
    {
      "cell_type": "markdown",
      "metadata": {
        "_uuid": "fed611598feffec2b2024c5dcf4fd057b6e2d1eb",
        "id": "rDlmLOhrrArj"
      },
      "source": [
        "## About the data\n",
        "The original MNIST image dataset of handwritten digits is a popular benchmark for image-based machine learning methods but researchers have renewed efforts to update it and develop drop-in replacements that are more challenging for computer vision and original for real-world applications. As noted in one recent replacement called the Fashion-MNIST dataset, the Zalando researchers quoted the startling claim that \"Most pairs of MNIST digits (784 total pixels per sample) can be distinguished pretty well by just one pixel\". To stimulate the community to develop more drop-in replacements, the Sign Language MNIST is presented here and follows the same CSV format with labels and pixel values in single rows. The American Sign Language letter database of hand gestures represent a multi-class problem with 24 classes of letters (excluding J and Z which require motion).\n",
        "\n",
        "### Dataset information\n",
        "- The dataset format is patterned to match closely with the classic MNIST.\n",
        "- Each training and test case represents a label (0-25) as a one-to-one map for each alphabetic letter A-Z (**and no cases for 9=J or 25=Z because of gesture motions**).\n",
        "- The training data (27,455 cases) and test data (7172 cases) are approximately half the size of the standard MNIST but otherwise similar with a header row of label, pixel1,pixel2....pixel784 which represent a single 28x28 pixel image with grayscale values between 0-255.\n",
        "\n",
        "Let's see what does each sign actually mean.\n",
        "![](https://i.imgur.com/6CnwYlF.png)\n"
      ]
    },
    {
      "cell_type": "markdown",
      "metadata": {
        "_uuid": "43610b28fcb6c9bd7cb7faf5e16b5b7036e2d63e",
        "id": "p2rOUPrzrArk"
      },
      "source": [
        "## Loading the dataset"
      ]
    },
    {
      "cell_type": "code",
      "execution_count": 1,
      "metadata": {
        "_kg_hide-input": true,
        "_uuid": "bbcbb713210c674a54142d4ade11072985c94754",
        "id": "ISyyY0RxrArk"
      },
      "outputs": [],
      "source": [
        "import numpy as np\n",
        "import pandas as pd\n",
        "import matplotlib.pyplot as plt\n",
        "import seaborn as sns"
      ]
    },
    {
      "cell_type": "code",
      "execution_count": 2,
      "metadata": {
        "_kg_hide-input": true,
        "_uuid": "39cff8696636f21dd5b26854b6d608a73a635345",
        "id": "aILpIiMLrArk"
      },
      "outputs": [],
      "source": [
        "train = pd.read_csv('sign_mnist_train.csv')\n",
        "test = pd.read_csv('sign_mnist_test.csv')"
      ]
    },
    {
      "cell_type": "code",
      "execution_count": 3,
      "metadata": {
        "colab": {
          "base_uri": "https://localhost:8080/"
        },
        "id": "XPDF10fWrArk",
        "outputId": "0e793f3d-8b2f-4f67-e74b-6a90c1abad8d"
      },
      "outputs": [
        {
          "name": "stdout",
          "output_type": "stream",
          "text": [
            "(27455, 785)\n",
            "(7172, 785)\n"
          ]
        }
      ],
      "source": [
        "print(train.shape)\n",
        "print(test.shape)"
      ]
    },
    {
      "cell_type": "code",
      "execution_count": 4,
      "metadata": {
        "_kg_hide-input": true,
        "_uuid": "1704cf375513a33e8c0d963feebca7b783b5a0b5",
        "colab": {
          "base_uri": "https://localhost:8080/",
          "height": 256
        },
        "id": "h9ITA9T8rArl",
        "outputId": "f364870a-d71d-4d45-a5f3-3c63769d0764",
        "scrolled": true
      },
      "outputs": [
        {
          "data": {
            "application/vnd.google.colaboratory.intrinsic+json": {
              "type": "dataframe",
              "variable_name": "train"
            },
            "text/html": [
              "\n",
              "  <div id=\"df-7a985f12-8e6a-4938-80ad-cba3492c6903\" class=\"colab-df-container\">\n",
              "    <div>\n",
              "<style scoped>\n",
              "    .dataframe tbody tr th:only-of-type {\n",
              "        vertical-align: middle;\n",
              "    }\n",
              "\n",
              "    .dataframe tbody tr th {\n",
              "        vertical-align: top;\n",
              "    }\n",
              "\n",
              "    .dataframe thead th {\n",
              "        text-align: right;\n",
              "    }\n",
              "</style>\n",
              "<table border=\"1\" class=\"dataframe\">\n",
              "  <thead>\n",
              "    <tr style=\"text-align: right;\">\n",
              "      <th></th>\n",
              "      <th>label</th>\n",
              "      <th>pixel1</th>\n",
              "      <th>pixel2</th>\n",
              "      <th>pixel3</th>\n",
              "      <th>pixel4</th>\n",
              "      <th>pixel5</th>\n",
              "      <th>pixel6</th>\n",
              "      <th>pixel7</th>\n",
              "      <th>pixel8</th>\n",
              "      <th>pixel9</th>\n",
              "      <th>...</th>\n",
              "      <th>pixel775</th>\n",
              "      <th>pixel776</th>\n",
              "      <th>pixel777</th>\n",
              "      <th>pixel778</th>\n",
              "      <th>pixel779</th>\n",
              "      <th>pixel780</th>\n",
              "      <th>pixel781</th>\n",
              "      <th>pixel782</th>\n",
              "      <th>pixel783</th>\n",
              "      <th>pixel784</th>\n",
              "    </tr>\n",
              "  </thead>\n",
              "  <tbody>\n",
              "    <tr>\n",
              "      <th>0</th>\n",
              "      <td>3</td>\n",
              "      <td>107</td>\n",
              "      <td>118</td>\n",
              "      <td>127</td>\n",
              "      <td>134</td>\n",
              "      <td>139</td>\n",
              "      <td>143</td>\n",
              "      <td>146</td>\n",
              "      <td>150</td>\n",
              "      <td>153</td>\n",
              "      <td>...</td>\n",
              "      <td>207</td>\n",
              "      <td>207</td>\n",
              "      <td>207</td>\n",
              "      <td>207</td>\n",
              "      <td>206</td>\n",
              "      <td>206</td>\n",
              "      <td>206</td>\n",
              "      <td>204</td>\n",
              "      <td>203</td>\n",
              "      <td>202</td>\n",
              "    </tr>\n",
              "    <tr>\n",
              "      <th>1</th>\n",
              "      <td>6</td>\n",
              "      <td>155</td>\n",
              "      <td>157</td>\n",
              "      <td>156</td>\n",
              "      <td>156</td>\n",
              "      <td>156</td>\n",
              "      <td>157</td>\n",
              "      <td>156</td>\n",
              "      <td>158</td>\n",
              "      <td>158</td>\n",
              "      <td>...</td>\n",
              "      <td>69</td>\n",
              "      <td>149</td>\n",
              "      <td>128</td>\n",
              "      <td>87</td>\n",
              "      <td>94</td>\n",
              "      <td>163</td>\n",
              "      <td>175</td>\n",
              "      <td>103</td>\n",
              "      <td>135</td>\n",
              "      <td>149</td>\n",
              "    </tr>\n",
              "    <tr>\n",
              "      <th>2</th>\n",
              "      <td>2</td>\n",
              "      <td>187</td>\n",
              "      <td>188</td>\n",
              "      <td>188</td>\n",
              "      <td>187</td>\n",
              "      <td>187</td>\n",
              "      <td>186</td>\n",
              "      <td>187</td>\n",
              "      <td>188</td>\n",
              "      <td>187</td>\n",
              "      <td>...</td>\n",
              "      <td>202</td>\n",
              "      <td>201</td>\n",
              "      <td>200</td>\n",
              "      <td>199</td>\n",
              "      <td>198</td>\n",
              "      <td>199</td>\n",
              "      <td>198</td>\n",
              "      <td>195</td>\n",
              "      <td>194</td>\n",
              "      <td>195</td>\n",
              "    </tr>\n",
              "    <tr>\n",
              "      <th>3</th>\n",
              "      <td>2</td>\n",
              "      <td>211</td>\n",
              "      <td>211</td>\n",
              "      <td>212</td>\n",
              "      <td>212</td>\n",
              "      <td>211</td>\n",
              "      <td>210</td>\n",
              "      <td>211</td>\n",
              "      <td>210</td>\n",
              "      <td>210</td>\n",
              "      <td>...</td>\n",
              "      <td>235</td>\n",
              "      <td>234</td>\n",
              "      <td>233</td>\n",
              "      <td>231</td>\n",
              "      <td>230</td>\n",
              "      <td>226</td>\n",
              "      <td>225</td>\n",
              "      <td>222</td>\n",
              "      <td>229</td>\n",
              "      <td>163</td>\n",
              "    </tr>\n",
              "    <tr>\n",
              "      <th>4</th>\n",
              "      <td>13</td>\n",
              "      <td>164</td>\n",
              "      <td>167</td>\n",
              "      <td>170</td>\n",
              "      <td>172</td>\n",
              "      <td>176</td>\n",
              "      <td>179</td>\n",
              "      <td>180</td>\n",
              "      <td>184</td>\n",
              "      <td>185</td>\n",
              "      <td>...</td>\n",
              "      <td>92</td>\n",
              "      <td>105</td>\n",
              "      <td>105</td>\n",
              "      <td>108</td>\n",
              "      <td>133</td>\n",
              "      <td>163</td>\n",
              "      <td>157</td>\n",
              "      <td>163</td>\n",
              "      <td>164</td>\n",
              "      <td>179</td>\n",
              "    </tr>\n",
              "  </tbody>\n",
              "</table>\n",
              "<p>5 rows × 785 columns</p>\n",
              "</div>\n",
              "    <div class=\"colab-df-buttons\">\n",
              "\n",
              "  <div class=\"colab-df-container\">\n",
              "    <button class=\"colab-df-convert\" onclick=\"convertToInteractive('df-7a985f12-8e6a-4938-80ad-cba3492c6903')\"\n",
              "            title=\"Convert this dataframe to an interactive table.\"\n",
              "            style=\"display:none;\">\n",
              "\n",
              "  <svg xmlns=\"http://www.w3.org/2000/svg\" height=\"24px\" viewBox=\"0 -960 960 960\">\n",
              "    <path d=\"M120-120v-720h720v720H120Zm60-500h600v-160H180v160Zm220 220h160v-160H400v160Zm0 220h160v-160H400v160ZM180-400h160v-160H180v160Zm440 0h160v-160H620v160ZM180-180h160v-160H180v160Zm440 0h160v-160H620v160Z\"/>\n",
              "  </svg>\n",
              "    </button>\n",
              "\n",
              "  <style>\n",
              "    .colab-df-container {\n",
              "      display:flex;\n",
              "      gap: 12px;\n",
              "    }\n",
              "\n",
              "    .colab-df-convert {\n",
              "      background-color: #E8F0FE;\n",
              "      border: none;\n",
              "      border-radius: 50%;\n",
              "      cursor: pointer;\n",
              "      display: none;\n",
              "      fill: #1967D2;\n",
              "      height: 32px;\n",
              "      padding: 0 0 0 0;\n",
              "      width: 32px;\n",
              "    }\n",
              "\n",
              "    .colab-df-convert:hover {\n",
              "      background-color: #E2EBFA;\n",
              "      box-shadow: 0px 1px 2px rgba(60, 64, 67, 0.3), 0px 1px 3px 1px rgba(60, 64, 67, 0.15);\n",
              "      fill: #174EA6;\n",
              "    }\n",
              "\n",
              "    .colab-df-buttons div {\n",
              "      margin-bottom: 4px;\n",
              "    }\n",
              "\n",
              "    [theme=dark] .colab-df-convert {\n",
              "      background-color: #3B4455;\n",
              "      fill: #D2E3FC;\n",
              "    }\n",
              "\n",
              "    [theme=dark] .colab-df-convert:hover {\n",
              "      background-color: #434B5C;\n",
              "      box-shadow: 0px 1px 3px 1px rgba(0, 0, 0, 0.15);\n",
              "      filter: drop-shadow(0px 1px 2px rgba(0, 0, 0, 0.3));\n",
              "      fill: #FFFFFF;\n",
              "    }\n",
              "  </style>\n",
              "\n",
              "    <script>\n",
              "      const buttonEl =\n",
              "        document.querySelector('#df-7a985f12-8e6a-4938-80ad-cba3492c6903 button.colab-df-convert');\n",
              "      buttonEl.style.display =\n",
              "        google.colab.kernel.accessAllowed ? 'block' : 'none';\n",
              "\n",
              "      async function convertToInteractive(key) {\n",
              "        const element = document.querySelector('#df-7a985f12-8e6a-4938-80ad-cba3492c6903');\n",
              "        const dataTable =\n",
              "          await google.colab.kernel.invokeFunction('convertToInteractive',\n",
              "                                                    [key], {});\n",
              "        if (!dataTable) return;\n",
              "\n",
              "        const docLinkHtml = 'Like what you see? Visit the ' +\n",
              "          '<a target=\"_blank\" href=https://colab.research.google.com/notebooks/data_table.ipynb>data table notebook</a>'\n",
              "          + ' to learn more about interactive tables.';\n",
              "        element.innerHTML = '';\n",
              "        dataTable['output_type'] = 'display_data';\n",
              "        await google.colab.output.renderOutput(dataTable, element);\n",
              "        const docLink = document.createElement('div');\n",
              "        docLink.innerHTML = docLinkHtml;\n",
              "        element.appendChild(docLink);\n",
              "      }\n",
              "    </script>\n",
              "  </div>\n",
              "\n",
              "\n",
              "<div id=\"df-84d1a021-9719-43ed-9a85-af9688a6d8ff\">\n",
              "  <button class=\"colab-df-quickchart\" onclick=\"quickchart('df-84d1a021-9719-43ed-9a85-af9688a6d8ff')\"\n",
              "            title=\"Suggest charts\"\n",
              "            style=\"display:none;\">\n",
              "\n",
              "<svg xmlns=\"http://www.w3.org/2000/svg\" height=\"24px\"viewBox=\"0 0 24 24\"\n",
              "     width=\"24px\">\n",
              "    <g>\n",
              "        <path d=\"M19 3H5c-1.1 0-2 .9-2 2v14c0 1.1.9 2 2 2h14c1.1 0 2-.9 2-2V5c0-1.1-.9-2-2-2zM9 17H7v-7h2v7zm4 0h-2V7h2v10zm4 0h-2v-4h2v4z\"/>\n",
              "    </g>\n",
              "</svg>\n",
              "  </button>\n",
              "\n",
              "<style>\n",
              "  .colab-df-quickchart {\n",
              "      --bg-color: #E8F0FE;\n",
              "      --fill-color: #1967D2;\n",
              "      --hover-bg-color: #E2EBFA;\n",
              "      --hover-fill-color: #174EA6;\n",
              "      --disabled-fill-color: #AAA;\n",
              "      --disabled-bg-color: #DDD;\n",
              "  }\n",
              "\n",
              "  [theme=dark] .colab-df-quickchart {\n",
              "      --bg-color: #3B4455;\n",
              "      --fill-color: #D2E3FC;\n",
              "      --hover-bg-color: #434B5C;\n",
              "      --hover-fill-color: #FFFFFF;\n",
              "      --disabled-bg-color: #3B4455;\n",
              "      --disabled-fill-color: #666;\n",
              "  }\n",
              "\n",
              "  .colab-df-quickchart {\n",
              "    background-color: var(--bg-color);\n",
              "    border: none;\n",
              "    border-radius: 50%;\n",
              "    cursor: pointer;\n",
              "    display: none;\n",
              "    fill: var(--fill-color);\n",
              "    height: 32px;\n",
              "    padding: 0;\n",
              "    width: 32px;\n",
              "  }\n",
              "\n",
              "  .colab-df-quickchart:hover {\n",
              "    background-color: var(--hover-bg-color);\n",
              "    box-shadow: 0 1px 2px rgba(60, 64, 67, 0.3), 0 1px 3px 1px rgba(60, 64, 67, 0.15);\n",
              "    fill: var(--button-hover-fill-color);\n",
              "  }\n",
              "\n",
              "  .colab-df-quickchart-complete:disabled,\n",
              "  .colab-df-quickchart-complete:disabled:hover {\n",
              "    background-color: var(--disabled-bg-color);\n",
              "    fill: var(--disabled-fill-color);\n",
              "    box-shadow: none;\n",
              "  }\n",
              "\n",
              "  .colab-df-spinner {\n",
              "    border: 2px solid var(--fill-color);\n",
              "    border-color: transparent;\n",
              "    border-bottom-color: var(--fill-color);\n",
              "    animation:\n",
              "      spin 1s steps(1) infinite;\n",
              "  }\n",
              "\n",
              "  @keyframes spin {\n",
              "    0% {\n",
              "      border-color: transparent;\n",
              "      border-bottom-color: var(--fill-color);\n",
              "      border-left-color: var(--fill-color);\n",
              "    }\n",
              "    20% {\n",
              "      border-color: transparent;\n",
              "      border-left-color: var(--fill-color);\n",
              "      border-top-color: var(--fill-color);\n",
              "    }\n",
              "    30% {\n",
              "      border-color: transparent;\n",
              "      border-left-color: var(--fill-color);\n",
              "      border-top-color: var(--fill-color);\n",
              "      border-right-color: var(--fill-color);\n",
              "    }\n",
              "    40% {\n",
              "      border-color: transparent;\n",
              "      border-right-color: var(--fill-color);\n",
              "      border-top-color: var(--fill-color);\n",
              "    }\n",
              "    60% {\n",
              "      border-color: transparent;\n",
              "      border-right-color: var(--fill-color);\n",
              "    }\n",
              "    80% {\n",
              "      border-color: transparent;\n",
              "      border-right-color: var(--fill-color);\n",
              "      border-bottom-color: var(--fill-color);\n",
              "    }\n",
              "    90% {\n",
              "      border-color: transparent;\n",
              "      border-bottom-color: var(--fill-color);\n",
              "    }\n",
              "  }\n",
              "</style>\n",
              "\n",
              "  <script>\n",
              "    async function quickchart(key) {\n",
              "      const quickchartButtonEl =\n",
              "        document.querySelector('#' + key + ' button');\n",
              "      quickchartButtonEl.disabled = true;  // To prevent multiple clicks.\n",
              "      quickchartButtonEl.classList.add('colab-df-spinner');\n",
              "      try {\n",
              "        const charts = await google.colab.kernel.invokeFunction(\n",
              "            'suggestCharts', [key], {});\n",
              "      } catch (error) {\n",
              "        console.error('Error during call to suggestCharts:', error);\n",
              "      }\n",
              "      quickchartButtonEl.classList.remove('colab-df-spinner');\n",
              "      quickchartButtonEl.classList.add('colab-df-quickchart-complete');\n",
              "    }\n",
              "    (() => {\n",
              "      let quickchartButtonEl =\n",
              "        document.querySelector('#df-84d1a021-9719-43ed-9a85-af9688a6d8ff button');\n",
              "      quickchartButtonEl.style.display =\n",
              "        google.colab.kernel.accessAllowed ? 'block' : 'none';\n",
              "    })();\n",
              "  </script>\n",
              "</div>\n",
              "\n",
              "    </div>\n",
              "  </div>\n"
            ],
            "text/plain": [
              "   label  pixel1  pixel2  pixel3  pixel4  pixel5  pixel6  pixel7  pixel8  \\\n",
              "0      3     107     118     127     134     139     143     146     150   \n",
              "1      6     155     157     156     156     156     157     156     158   \n",
              "2      2     187     188     188     187     187     186     187     188   \n",
              "3      2     211     211     212     212     211     210     211     210   \n",
              "4     13     164     167     170     172     176     179     180     184   \n",
              "\n",
              "   pixel9  ...  pixel775  pixel776  pixel777  pixel778  pixel779  pixel780  \\\n",
              "0     153  ...       207       207       207       207       206       206   \n",
              "1     158  ...        69       149       128        87        94       163   \n",
              "2     187  ...       202       201       200       199       198       199   \n",
              "3     210  ...       235       234       233       231       230       226   \n",
              "4     185  ...        92       105       105       108       133       163   \n",
              "\n",
              "   pixel781  pixel782  pixel783  pixel784  \n",
              "0       206       204       203       202  \n",
              "1       175       103       135       149  \n",
              "2       198       195       194       195  \n",
              "3       225       222       229       163  \n",
              "4       157       163       164       179  \n",
              "\n",
              "[5 rows x 785 columns]"
            ]
          },
          "execution_count": 4,
          "metadata": {},
          "output_type": "execute_result"
        }
      ],
      "source": [
        "train.head()"
      ]
    },
    {
      "cell_type": "markdown",
      "metadata": {
        "id": "_zpfcd37rArl"
      },
      "source": [
        "## Observation\n",
        "You can see that each image is 28 pixels in height and 28 pixels in width, for a total of 784 pixels in total. Each pixel has a single pixel-value associated with it, indicating the lightness or darkness of that pixel, with higher numbers meaning darker. This pixel-value is an integer between 0 and 255, inclusively.\n",
        "\n",
        "Visually, if we omit the \"pixel\" prefix, the pixels make up the image like this:\n",
        "```\n",
        "000 001 002 003 ... 026 027\n",
        "028 029 030 031 ... 054 055\n",
        "056 057 058 059 ... 082 083\n",
        " |   |   |   |  ...  |   |\n",
        "728 729 730 731 ... 754 755\n",
        "756 757 758 759 ... 782 783\n",
        "```"
      ]
    },
    {
      "cell_type": "markdown",
      "metadata": {
        "id": "60_1YXelrArl"
      },
      "source": [
        "Sine the labels in out dataset are all numbers. Let's create a list of label names for visualization purpose later on."
      ]
    },
    {
      "cell_type": "code",
      "execution_count": 5,
      "metadata": {
        "id": "DVS1UPQIrArl"
      },
      "outputs": [],
      "source": [
        "class_names = ['A','B','C','D','E','F','G',\n",
        "               'H','I','K','L','M','N',\n",
        "               'O','P','Q','R','S','T','U',\n",
        "               'V','W','X','Y']"
      ]
    },
    {
      "cell_type": "markdown",
      "metadata": {
        "_uuid": "46e4bfa083095d0ee14048250875952381d7060b",
        "id": "bssxB8TfrArl"
      },
      "source": [
        "# Data exploration\n",
        "\n",
        "Let's draw a `countplot` using `seaborn` to see the distribution of classes in our data."
      ]
    },
    {
      "cell_type": "code",
      "execution_count": 6,
      "metadata": {
        "_kg_hide-input": true,
        "_uuid": "7f35db6e0ad4d62e93e82d932dea132ccd17d361",
        "colab": {
          "base_uri": "https://localhost:8080/",
          "height": 612
        },
        "id": "74MMPiGkrArl",
        "outputId": "35f32410-a400-40ee-fa1a-ee6ddb2025a1"
      },
      "outputs": [
        {
          "data": {
            "text/plain": [
              "<Axes: xlabel='label', ylabel='count'>"
            ]
          },
          "execution_count": 6,
          "metadata": {},
          "output_type": "execute_result"
        },
        {
          "data": {
            "image/png": "[encoded data removed]",
            "text/plain": [
              "<Figure size 1800x800 with 1 Axes>"
            ]
          },
          "metadata": {},
          "output_type": "display_data"
        }
      ],
      "source": [
        "plt.figure(figsize = (18,8))\n",
        "sns.countplot(x=train['label'])"
      ]
    },
    {
      "cell_type": "markdown",
      "metadata": {
        "_uuid": "f2806c29690539d6c1fad7a1c3e0aad98656e000",
        "id": "qT6O_YqgrArm"
      },
      "source": [
        "As a result, you should see that the classes in the training data almost equally distributed."
      ]
    },
    {
      "cell_type": "code",
      "execution_count": 7,
      "metadata": {
        "_uuid": "8c2df551d7a771cb4fdc25b574a48a1652f251f0",
        "colab": {
          "base_uri": "https://localhost:8080/"
        },
        "id": "kc3zcAFHrArm",
        "outputId": "6fd18c36-3264-4497-9c21-555cf5504d25"
      },
      "outputs": [
        {
          "name": "stdout",
          "output_type": "stream",
          "text": [
            "(27455, 785)\n",
            "(7172, 785)\n"
          ]
        }
      ],
      "source": [
        "print(train.shape)\n",
        "print(test.shape)"
      ]
    },
    {
      "cell_type": "markdown",
      "metadata": {
        "id": "dOMEwXoOrArm"
      },
      "source": [
        "## Inspecting Labels of Training and Testing Data\n",
        "\n",
        "Print out the unique values of `labels` in ascending order to see if there is something wrong.\n",
        "\n",
        "Do this by using `unique()` method on the `label` series."
      ]
    },
    {
      "cell_type": "code",
      "execution_count": 8,
      "metadata": {
        "colab": {
          "base_uri": "https://localhost:8080/"
        },
        "id": "OCnXnjgZrArm",
        "outputId": "544d62b0-d402-4e2f-a944-f77419421dfc"
      },
      "outputs": [
        {
          "data": {
            "text/plain": [
              "array([ 0,  1,  2,  3,  4,  5,  6,  7,  8, 10, 11, 12, 13, 14, 15, 16, 17,\n",
              "       18, 19, 20, 21, 22, 23, 24])"
            ]
          },
          "execution_count": 8,
          "metadata": {},
          "output_type": "execute_result"
        }
      ],
      "source": [
        "np.sort(train['label'].unique())"
      ]
    },
    {
      "cell_type": "code",
      "execution_count": 9,
      "metadata": {
        "colab": {
          "base_uri": "https://localhost:8080/"
        },
        "id": "RaF-JZgcrArm",
        "outputId": "ef645976-e26d-49e2-961f-eac802f09dc4"
      },
      "outputs": [
        {
          "data": {
            "text/plain": [
              "array([ 0,  1,  2,  3,  4,  5,  6,  7,  8, 10, 11, 12, 13, 14, 15, 16, 17,\n",
              "       18, 19, 20, 21, 22, 23, 24])"
            ]
          },
          "execution_count": 9,
          "metadata": {},
          "output_type": "execute_result"
        }
      ],
      "source": [
        "np.sort(test['label'].unique())"
      ]
    },
    {
      "cell_type": "markdown",
      "metadata": {
        "id": "uCwzbsw_rArm"
      },
      "source": [
        "## Preprocessing Labels\n",
        "\n",
        "**Recall**:\n",
        "\n",
        "- Our original dataset omit the case of **9=J** and **25=Z**, which makes our data contain only 24 characters.\n",
        "\n",
        "- It seems like we have a small inconsistence with the labels here. Since there are 24 distinct labels, the range of values of labels should be `[0,23]`.\n",
        "\n",
        "- However, we miss the label `9`, making the range of values of labels to be `[0,24]`. **This will yield an error in the training phase**.\n",
        "\n",
        "**Solution**:\n",
        "1. We can tackle this issue by converting the labels to dummy variables via one-hot method. By this way, we do not care about the range of values of labels.\n",
        "    - This can be obtained by using `sklearn.preprocessing.LabelBinarizer`.\n",
        "2. An alternative (and more obvious) solution is updating the values of labels after `8` to lower one unit.\n",
        "\n",
        "In this case, we make use of the 2nd solution.\n",
        "\n",
        "**Notice**: We should do this for both training and testing set."
      ]
    },
    {
      "cell_type": "markdown",
      "metadata": {
        "id": "O5gKIk3zrArm"
      },
      "source": [
        "Let's implement a `preprocessing_label()` function, which performs:\n",
        "- For any label whose value is larger than 8, reduce it by 1 unit."
      ]
    },
    {
      "cell_type": "code",
      "execution_count": 10,
      "metadata": {
        "id": "DjcwJPgdrArm"
      },
      "outputs": [],
      "source": [
        "def preprocessing_label(label):\n",
        "    if label > 8:\n",
        "        label = label - 1\n",
        "    return label"
      ]
    },
    {
      "cell_type": "markdown",
      "metadata": {
        "id": "Fkw5TNDzrArm"
      },
      "source": [
        "Let's apply it to the `label` column to update our training and testing data."
      ]
    },
    {
      "cell_type": "code",
      "execution_count": 11,
      "metadata": {
        "id": "1ljFp8hqrArn"
      },
      "outputs": [],
      "source": [
        "train['label'] = train['label'].map(preprocessing_label)\n",
        "test['label'] = test['label'].map(preprocessing_label)"
      ]
    },
    {
      "cell_type": "markdown",
      "metadata": {
        "id": "TcvSXEpJrArn"
      },
      "source": [
        "Let's check again your `label` column in both training and testing data."
      ]
    },
    {
      "cell_type": "code",
      "execution_count": 12,
      "metadata": {
        "colab": {
          "base_uri": "https://localhost:8080/"
        },
        "id": "fvFmeRJhrArn",
        "outputId": "bbbddcb3-2701-4e97-e9d5-ab5c7dad131a"
      },
      "outputs": [
        {
          "data": {
            "text/plain": [
              "array([ 0,  1,  2,  3,  4,  5,  6,  7,  8,  9, 10, 11, 12, 13, 14, 15, 16,\n",
              "       17, 18, 19, 20, 21, 22, 23])"
            ]
          },
          "execution_count": 12,
          "metadata": {},
          "output_type": "execute_result"
        }
      ],
      "source": [
        "np.sort(train['label'].unique())"
      ]
    },
    {
      "cell_type": "code",
      "execution_count": 13,
      "metadata": {
        "colab": {
          "base_uri": "https://localhost:8080/"
        },
        "id": "j4uRZ5TtrArn",
        "outputId": "b67e97a6-96f5-4e55-b2f3-f721a2308e76"
      },
      "outputs": [
        {
          "data": {
            "text/plain": [
              "array([ 0,  1,  2,  3,  4,  5,  6,  7,  8,  9, 10, 11, 12, 13, 14, 15, 16,\n",
              "       17, 18, 19, 20, 21, 22, 23])"
            ]
          },
          "execution_count": 13,
          "metadata": {},
          "output_type": "execute_result"
        }
      ],
      "source": [
        "np.sort(test['label'].unique())"
      ]
    },
    {
      "cell_type": "markdown",
      "metadata": {
        "id": "Y2WkT4OxrArn"
      },
      "source": [
        "## Obtaining Labels\n",
        "\n",
        "Looks neat! Now let's save the labels in both training and testing data to `train_labels` and `test_labels` variables.\n",
        "\n",
        "**Notice**: Convert the Series to Numpy Array by using `.values`"
      ]
    },
    {
      "cell_type": "code",
      "execution_count": 14,
      "metadata": {
        "id": "gSlLDTQgrArn"
      },
      "outputs": [],
      "source": [
        "train_labels = train['label'].values\n",
        "test_labels = test['label'].values"
      ]
    },
    {
      "cell_type": "markdown",
      "metadata": {
        "id": "zW5_HLbErArn"
      },
      "source": [
        "Next, let's get rid of `labels` column in both training and testing data.\n",
        "- Hint: Using `dataframe.drop()` method."
      ]
    },
    {
      "cell_type": "code",
      "execution_count": 15,
      "metadata": {
        "_uuid": "cf73d03f610be9f134a3ee5e35301b1da4626d02",
        "id": "8afrCUN4rArn"
      },
      "outputs": [],
      "source": [
        "train.drop('label', axis = 1, inplace = True)"
      ]
    },
    {
      "cell_type": "code",
      "execution_count": 16,
      "metadata": {
        "id": "SFZF2WbsrArn"
      },
      "outputs": [],
      "source": [
        "test.drop('label', axis=1, inplace = True)"
      ]
    },
    {
      "cell_type": "markdown",
      "metadata": {
        "_uuid": "642c57023e8cc89f7ec0d90c16ffa3c4c3db78f6",
        "id": "putC6EQ8rArn"
      },
      "source": [
        "## Preprocessing Images\n",
        "\n",
        "We need to preprocess image data before training the network. Let's inspect the first image in training data. The range of pixel is from 0 to 255."
      ]
    },
    {
      "cell_type": "code",
      "execution_count": 17,
      "metadata": {
        "_uuid": "b25a4af6ed60a970d5f530f4c94aca2e0c2554de",
        "id": "owQ5OUSjrArn"
      },
      "outputs": [],
      "source": [
        "# Reshape images back to 28x28 matrix to visualize\n",
        "train_images = train.values\n",
        "train_images = np.array([np.reshape(i, (28, 28)) for i in train_images])\n",
        "\n",
        "test_images = test.values\n",
        "test_images = np.array([np.reshape(i, (28, 28)) for i in test_images])"
      ]
    },
    {
      "cell_type": "code",
      "execution_count": 18,
      "metadata": {
        "_kg_hide-input": true,
        "_uuid": "3381e5155295c437768c05889ac3fe5b449a1c7d",
        "colab": {
          "base_uri": "https://localhost:8080/",
          "height": 430
        },
        "id": "jCJ_3lxBrArn",
        "outputId": "441dd203-3506-4caa-bec4-47a9267d5094",
        "scrolled": true
      },
      "outputs": [
        {
          "data": {
            "image/png": "[encoded data removed]",
            "text/plain": [
              "<Figure size 640x480 with 2 Axes>"
            ]
          },
          "metadata": {},
          "output_type": "display_data"
        }
      ],
      "source": [
        "plt.imshow(train_images[0], cmap=plt.cm.binary)\n",
        "plt.colorbar()\n",
        "plt.show()"
      ]
    },
    {
      "cell_type": "markdown",
      "metadata": {
        "id": "zAmxOqoirAro"
      },
      "source": [
        "As a principle, we need to normalize the images to the range of `[0,1]` before feeding to the network. **Why do we do this?**\n",
        "- The explaination [here](https://stackoverflow.com/questions/4674623/why-do-we-have-to-normalize-the-input-for-an-artificial-neural-network) is that we can make training phase faster and optimize the loss function at best.\n",
        "\n",
        "**Notice**: We should conduct this for both training and testing set."
      ]
    },
    {
      "cell_type": "code",
      "execution_count": 19,
      "metadata": {
        "_uuid": "c844dbe8b17ca2926268369d41b2973ffe5e9070",
        "id": "JEjpABs3rAro"
      },
      "outputs": [],
      "source": [
        "train_images = train_images / 255\n",
        "test_images = test_images / 255"
      ]
    },
    {
      "cell_type": "markdown",
      "metadata": {
        "id": "g4924YzMrAro"
      },
      "source": [
        "Let's visualize the image after the normalization. Notice the range of value is reduced but we still keep the information of the image."
      ]
    },
    {
      "cell_type": "code",
      "execution_count": 20,
      "metadata": {
        "colab": {
          "base_uri": "https://localhost:8080/",
          "height": 430
        },
        "id": "gYremYybrAro",
        "outputId": "746b2c29-98d2-4165-c4b9-44b4ff42f704"
      },
      "outputs": [
        {
          "data": {
            "image/png": "[encoded data removed]",
            "text/plain": [
              "<Figure size 640x480 with 2 Axes>"
            ]
          },
          "metadata": {},
          "output_type": "display_data"
        }
      ],
      "source": [
        "plt.imshow(train_images[0], cmap=plt.cm.binary)\n",
        "plt.colorbar()\n",
        "plt.show()"
      ]
    },
    {
      "cell_type": "markdown",
      "metadata": {
        "id": "surC8ddXrAro"
      },
      "source": [
        "Display the first 25 images from the *training dataset* with their corresponding label as below."
      ]
    },
    {
      "cell_type": "code",
      "execution_count": 21,
      "metadata": {
        "colab": {
          "base_uri": "https://localhost:8080/",
          "height": 826
        },
        "id": "-cQ3xFsRrAro",
        "outputId": "176fb788-08e6-4d3b-a30c-150e74b6b219"
      },
      "outputs": [
        {
          "data": {
            "image/png": "[encoded data removed]",
            "text/plain": [
              "<Figure size 1000x1000 with 25 Axes>"
            ]
          },
          "metadata": {},
          "output_type": "display_data"
        }
      ],
      "source": [
        "plt.figure(figsize=(10,10))\n",
        "for i in range(25):\n",
        "    plt.subplot(5,5,i+1)\n",
        "    plt.xticks([])\n",
        "    plt.yticks([])\n",
        "    plt.grid(False)\n",
        "    plt.imshow(train_images[i], cmap=plt.cm.binary)\n",
        "    plt.xlabel(class_names[train_labels[i]])\n",
        "plt.show()"
      ]
    },
    {
      "cell_type": "markdown",
      "metadata": {
        "_uuid": "ba7bfbf01786a077db6287f795469308e2e37044",
        "id": "-tdAg-jArArp"
      },
      "source": [
        "## Training/Validating Data Splitting\n",
        "\n",
        "**Notice**:\n",
        "- We already have an explicit testing data. Therefore, we split the training data into 2 different data: `training` and `validating`.\n",
        "- To sum up, have 3 total dataset in this problem.\n",
        "    - `Training data`: Used for training the network.\n",
        "    - `Validating data`: Used for evaluating the network during training phase.\n",
        "    - `Testing data`: Used for evaluating the true performance of the network.\n",
        "\n",
        "Spliting the dataset into train (70%) and validation (30%) dataset."
      ]
    },
    {
      "cell_type": "code",
      "execution_count": 22,
      "metadata": {
        "_uuid": "a2998dd21e53a4f15514277995491eafc5f6b235",
        "id": "YCPyStE2rArp"
      },
      "outputs": [],
      "source": [
        "from sklearn.model_selection import train_test_split"
      ]
    },
    {
      "cell_type": "code",
      "execution_count": 23,
      "metadata": {
        "_uuid": "8195b569b6b66f7f03d510b26eb8941a6eff8f96",
        "id": "a773acR8rArp"
      },
      "outputs": [],
      "source": [
        "X_train, X_val, y_train, y_val = train_test_split(train_images, train_labels, test_size = 0.3, random_state = 101)"
      ]
    },
    {
      "cell_type": "markdown",
      "metadata": {
        "id": "HjdJHGvYrArp"
      },
      "source": [
        "### Reshaping Image in prior to Fitting the Neural Network"
      ]
    },
    {
      "cell_type": "code",
      "execution_count": 24,
      "metadata": {
        "_uuid": "1cb372496acf0b6e5ffb4a951d4445929fed7706",
        "id": "JqTy93XArArp"
      },
      "outputs": [],
      "source": [
        "X_train = X_train.reshape(X_train.shape[0], 28, 28, 1)\n",
        "X_val = X_val.reshape(X_val.shape[0], 28, 28, 1)"
      ]
    },
    {
      "cell_type": "markdown",
      "metadata": {
        "id": "p5YorBWIrArp"
      },
      "source": [
        "As you can see, your image data now has: 19218 instances, 28x28 pixel, 1 channel color"
      ]
    },
    {
      "cell_type": "code",
      "execution_count": 25,
      "metadata": {
        "colab": {
          "base_uri": "https://localhost:8080/"
        },
        "id": "xURbbekgrArp",
        "outputId": "032d08a3-07d9-4504-81fd-a2a3a7b491c8"
      },
      "outputs": [
        {
          "data": {
            "text/plain": [
              "(19218, 28, 28, 1)"
            ]
          },
          "execution_count": 25,
          "metadata": {},
          "output_type": "execute_result"
        }
      ],
      "source": [
        "X_train.shape"
      ]
    },
    {
      "cell_type": "markdown",
      "metadata": {
        "_uuid": "82f51a8ea917e21a1059c8e02c38c6a73ff7e994",
        "id": "Fihn6mdtrArp"
      },
      "source": [
        "## Building a CNN Model\n",
        "Building a neural network requires configuring the layers of the network and compiling it."
      ]
    },
    {
      "cell_type": "markdown",
      "metadata": {
        "_uuid": "ca7ff22abf6130778af7ec7e8c1062365b1a5179",
        "collapsed": true,
        "id": "sXisCioyrArp"
      },
      "source": [
        "But first, let's import **Tensorflow-Keras** library for deep learning models."
      ]
    },
    {
      "cell_type": "code",
      "execution_count": 26,
      "metadata": {
        "_uuid": "3ec82309ac0cd088766cfccd095401d706c09462",
        "id": "olib1bn6rArp"
      },
      "outputs": [],
      "source": [
        "import tensorflow as tf\n",
        "from tensorflow.keras.models import Sequential\n",
        "from tensorflow.keras.layers import Dense, Conv2D, MaxPooling2D, Flatten, Dropout"
      ]
    },
    {
      "cell_type": "markdown",
      "metadata": {
        "_uuid": "0d6db165b0ca7701969b6ab373182e475dfdf8c9",
        "id": "UkTJVEkPrArp"
      },
      "source": [
        "### Configuring Neural Network Hyperparameters\n",
        "Let's create the batch size=128 and using epochs=10.\n",
        "\n",
        "What we consider here is the number of **epochs** and **batch size**. For short:\n",
        "- 1 Epoch = 1 Forward pass + 1 Backward pass for **ALL training samples**.\n",
        "- Batch Size = Number of training samples in 1 Forward/1 Backward pass. (With increase in Batch size, required memory space increases.)\n",
        "- Number of iterations = Number of passes i.e. 1 Pass = 1 Forward pass + 1 Backward pass (Forward pass and Backward pass are not counted differently.)\n",
        "\n",
        "*Example* : If we have 1000 training samples and Batch size is set to 500, it will take 2 iterations to complete 1 Epoch.\n",
        "\n",
        "**Why do we need to use Batch size?**:\n",
        "- When the data fed into the network is too large, we cannot feed the whole data at once. Therefore, we need to divide our original training data into smaller batches."
      ]
    },
    {
      "cell_type": "code",
      "execution_count": 27,
      "metadata": {
        "_uuid": "4321e7c0755b03a7ed072cab088d02b27f3f734f",
        "id": "qM_xvyOPrArp"
      },
      "outputs": [],
      "source": [
        "batch_size = 128\n",
        "num_classes = 24\n",
        "epochs = 5"
      ]
    },
    {
      "cell_type": "markdown",
      "metadata": {
        "id": "Jr5ubheMrArp"
      },
      "source": [
        "### Setting the Layers\n",
        "\n",
        "Layers are the basic building blocks of a neural network. Layers can extract the features from the data we fed to them. These features are expected to be more meaningful than the hand-engineer features.\n",
        "\n",
        "Most deep learning models consist of chaining together simple layers. In this problem, our CNN model should be set as a typical architecture as follow:\n",
        "(`Convolution` -> `MaxPooling`) x3 -> `Flatten` -> `Dense1 (Fully Connected Layer)` -> `Dropout` -> `Dense2 (Fully Connected Layer)`.\n",
        "\n",
        "- Convolution:\n",
        "    - kernel_size: 3x3, activation function: ReLU\n",
        "- MaxPooling:\n",
        "    - pool_size: 3x3\n",
        "- Dense1:\n",
        "    - 128 nodes, activation function: ReLU\n",
        "- Dropout:\n",
        "    - 20%\n",
        "- Dense2:\n",
        "    - number of nodes = number of classes, activation function: softmax\n",
        "  "
      ]
    },
    {
      "cell_type": "code",
      "execution_count": 51,
      "metadata": {
        "_uuid": "31b10d7abd4b28e7de20a46bab97b87bdf797fdb",
        "colab": {
          "base_uri": "https://localhost:8080/"
        },
        "id": "zcS16RnJrArq",
        "outputId": "e7081a87-627f-420f-c73e-ee57014b7013"
      },
      "outputs": [
        {
          "name": "stderr",
          "output_type": "stream",
          "text": [
            "/usr/local/lib/python3.10/dist-packages/keras/src/layers/convolutional/base_conv.py:107: UserWarning: Do not pass an `input_shape`/`input_dim` argument to a layer. When using Sequential models, prefer using an `Input(shape)` object as the first layer in the model instead.\n",
            "  super().__init__(activity_regularizer=activity_regularizer, **kwargs)\n"
          ]
        }
      ],
      "source": [
        "model = Sequential([\n",
        "    Conv2D(32, kernel_size=(3,3), activation = 'relu', input_shape=(28, 28 ,1)),\n",
        "    MaxPooling2D(pool_size = (2, 2)),\n",
        "    Conv2D(64, kernel_size = (3, 3), activation = 'relu'),\n",
        "    MaxPooling2D(pool_size = (2, 2)),\n",
        "    Conv2D(128, kernel_size = (3, 3), activation = 'relu'),\n",
        "    MaxPooling2D(pool_size = (2, 2)),\n",
        "    Flatten(),\n",
        "    Dense(128, activation = 'relu'),\n",
        "    Dropout(0.2),\n",
        "    Dense(num_classes, activation = 'softmax')\n",
        "])"
      ]
    },
    {
      "cell_type": "markdown",
      "metadata": {
        "id": "ERqgUYoPrArq"
      },
      "source": [
        "### Recall\n",
        "The first layer in this network, `Flatten`, transforms the format of the images from a 2d-array (of 28 by 28 pixels), to a 1d-array of 28 * 28 = 784 pixels. Think of this layer as unstacking rows of pixels in the image and lining them up. This layer has no parameters to learn it only reformats the data. Its purpose is to start feeding the data into `Dense` layer.\n",
        "\n",
        "After the pixels are flattened, the network consists of a sequence of `Dense` layers. These are densely-connected, or fully-connected, neural layers. The first Dense layer has 128 nodes (or neurons). The second (and last) layer is a number-of-classes-node softmax layer, this returns an array of `number-of-classes` probability scores that sum to 1. Each node contains a score that indicates the probability that the current image belongs to one of the classes."
      ]
    },
    {
      "cell_type": "markdown",
      "metadata": {
        "id": "x80htyQMrArq"
      },
      "source": [
        "### Compile the Model\n",
        "\n",
        "A few more settings need to be done before we train the network. This step is called *compile* step, which includes:\n",
        "- *Loss function* - This measure how accurate the model in training phase. We want to minimize this function throughout each epoch.\n",
        "- *Optimizer* - The algorithm that helps the network update its weights based on the data it sees and its loss function.\n",
        "- *Metrics* - Monitor the performance of the network during training phase."
      ]
    },
    {
      "cell_type": "code",
      "execution_count": 52,
      "metadata": {
        "_uuid": "b3f7e5cbaf7fd6a0b87cbaa2a91febc373fa41ae",
        "id": "XS_GEWNArArq"
      },
      "outputs": [],
      "source": [
        "model.compile(loss = 'sparse_categorical_crossentropy',\n",
        "              optimizer='adam',\n",
        "              metrics=['accuracy'])"
      ]
    },
    {
      "cell_type": "markdown",
      "metadata": {
        "id": "EP1VMMnprArq"
      },
      "source": [
        "### Train the model\n",
        "\n",
        "To start training, use `model.fit()` method."
      ]
    },
    {
      "cell_type": "code",
      "execution_count": 53,
      "metadata": {
        "_uuid": "f8017080980e9d0e1a97782e518e502ba3e71b13",
        "colab": {
          "base_uri": "https://localhost:8080/"
        },
        "id": "HbTdboVurArq",
        "outputId": "a5345d38-23a5-4744-91bb-71d20ea11142",
        "scrolled": false
      },
      "outputs": [
        {
          "name": "stdout",
          "output_type": "stream",
          "text": [
            "Epoch 1/10\n",
            "\u001b[1m151/151\u001b[0m \u001b[32m━━━━━━━━━━━━━━━━━━━━\u001b[0m\u001b[37m\u001b[0m \u001b[1m20s\u001b[0m 118ms/step - accuracy: 0.1171 - loss: 2.9456 - val_accuracy: 0.5574 - val_loss: 1.4038\n",
            "Epoch 2/10\n",
            "\u001b[1m151/151\u001b[0m \u001b[32m━━━━━━━━━━━━━━━━━━━━\u001b[0m\u001b[37m\u001b[0m \u001b[1m18s\u001b[0m 117ms/step - accuracy: 0.5449 - loss: 1.3650 - val_accuracy: 0.7589 - val_loss: 0.7769\n",
            "Epoch 3/10\n",
            "\u001b[1m151/151\u001b[0m \u001b[32m━━━━━━━━━━━━━━━━━━━━\u001b[0m\u001b[37m\u001b[0m \u001b[1m21s\u001b[0m 119ms/step - accuracy: 0.7279 - loss: 0.8012 - val_accuracy: 0.8133 - val_loss: 0.5283\n",
            "Epoch 4/10\n",
            "\u001b[1m151/151\u001b[0m \u001b[32m━━━━━━━━━━━━━━━━━━━━\u001b[0m\u001b[37m\u001b[0m \u001b[1m18s\u001b[0m 117ms/step - accuracy: 0.8151 - loss: 0.5441 - val_accuracy: 0.8890 - val_loss: 0.3511\n",
            "Epoch 5/10\n",
            "\u001b[1m151/151\u001b[0m \u001b[32m━━━━━━━━━━━━━━━━━━━━\u001b[0m\u001b[37m\u001b[0m \u001b[1m18s\u001b[0m 118ms/step - accuracy: 0.8800 - loss: 0.3609 - val_accuracy: 0.9512 - val_loss: 0.1741\n",
            "Epoch 6/10\n",
            "\u001b[1m151/151\u001b[0m \u001b[32m━━━━━━━━━━━━━━━━━━━━\u001b[0m\u001b[37m\u001b[0m \u001b[1m20s\u001b[0m 117ms/step - accuracy: 0.9211 - loss: 0.2394 - val_accuracy: 0.9754 - val_loss: 0.1092\n",
            "Epoch 7/10\n",
            "\u001b[1m151/151\u001b[0m \u001b[32m━━━━━━━━━━━━━━━━━━━━\u001b[0m\u001b[37m\u001b[0m \u001b[1m18s\u001b[0m 119ms/step - accuracy: 0.9397 - loss: 0.1815 - val_accuracy: 0.9852 - val_loss: 0.0743\n",
            "Epoch 8/10\n",
            "\u001b[1m151/151\u001b[0m \u001b[32m━━━━━━━━━━━━━━━━━━━━\u001b[0m\u001b[37m\u001b[0m \u001b[1m18s\u001b[0m 121ms/step - accuracy: 0.9647 - loss: 0.1169 - val_accuracy: 0.9948 - val_loss: 0.0395\n",
            "Epoch 9/10\n",
            "\u001b[1m151/151\u001b[0m \u001b[32m━━━━━━━━━━━━━━━━━━━━\u001b[0m\u001b[37m\u001b[0m \u001b[1m20s\u001b[0m 119ms/step - accuracy: 0.9823 - loss: 0.0698 - val_accuracy: 0.9950 - val_loss: 0.0307\n",
            "Epoch 10/10\n",
            "\u001b[1m151/151\u001b[0m \u001b[32m━━━━━━━━━━━━━━━━━━━━\u001b[0m\u001b[37m\u001b[0m \u001b[1m19s\u001b[0m 125ms/step - accuracy: 0.9865 - loss: 0.0562 - val_accuracy: 0.9987 - val_loss: 0.0161\n"
          ]
        }
      ],
      "source": [
        "history = model.fit(X_train, y_train, validation_data = (X_val, y_val), epochs=epochs, batch_size=batch_size)\n",
        "\n",
        "\n"
      ]
    },
    {
      "cell_type": "code",
      "execution_count": 32,
      "metadata": {
        "colab": {
          "base_uri": "https://localhost:8080/"
        },
        "id": "mbhjx7WGuay6",
        "outputId": "90088ee5-7d96-4dbd-fb52-3e7f2be1ca98"
      },
      "outputs": [
        {
          "name": "stderr",
          "output_type": "stream",
          "text": [
            "WARNING:absl:You are saving your model as an HDF5 file via `model.save()` or `keras.saving.save_model(model)`. This file format is considered legacy. We recommend using instead the native Keras format, e.g. `model.save('my_model.keras')` or `keras.saving.save_model(model, 'my_model.keras')`. \n"
          ]
        }
      ],
      "source": [
        "model.save('my_model.h5')"
      ]
    },
    {
      "cell_type": "markdown",
      "metadata": {
        "id": "00HV7NxfrArq"
      },
      "source": [
        "## Evaluate the Performance"
      ]
    },
    {
      "cell_type": "markdown",
      "metadata": {
        "_uuid": "7f16f3a253826a51b7ad38bb2576bf200173581f",
        "id": "o6shMom2rArq"
      },
      "source": [
        "Let's validate our model with the test data. Recall that the testing data is imported explicitly. Now it's time to make use of it."
      ]
    },
    {
      "cell_type": "code",
      "execution_count": 34,
      "metadata": {
        "colab": {
          "base_uri": "https://localhost:8080/"
        },
        "id": "iNXilDm4rArq",
        "outputId": "f58ee7da-0abe-4cae-d399-112759811d31"
      },
      "outputs": [
        {
          "data": {
            "text/plain": [
              "(7172, 28, 28, 1)"
            ]
          },
          "execution_count": 34,
          "metadata": {},
          "output_type": "execute_result"
        }
      ],
      "source": [
        "# Converting test_images to shape of (28,28,1) in prior to evaluating the model\n",
        "test_images = test_images.reshape(test_images.shape[0], 28, 28, 1)\n",
        "test_images.shape"
      ]
    },
    {
      "cell_type": "code",
      "execution_count": 35,
      "metadata": {
        "colab": {
          "base_uri": "https://localhost:8080/"
        },
        "id": "I3nOIY4yrArq",
        "outputId": "82a8596f-0222-4380-dfc8-2a5a6d8ff1d3"
      },
      "outputs": [
        {
          "name": "stdout",
          "output_type": "stream",
          "text": [
            "\u001b[1m225/225\u001b[0m \u001b[32m━━━━━━━━━━━━━━━━━━━━\u001b[0m\u001b[37m\u001b[0m \u001b[1m3s\u001b[0m 12ms/step - accuracy: 0.8925 - loss: 0.3559\n",
            "Test accuracy: 0.8943111896514893\n"
          ]
        }
      ],
      "source": [
        "test_loss, test_acc = model.evaluate(test_images, test_labels)\n",
        "\n",
        "print('Test accuracy:', test_acc)"
      ]
    },
    {
      "cell_type": "markdown",
      "metadata": {
        "id": "vOxUy_vYrArr"
      },
      "source": [
        "If your model has Testing accuracy to be larger than Training accuracy. Then, your model seems to be overfit. This is the situation in which a machine learning model performs worse on newly unseen data (testing data) than on the training data.\n",
        "\n",
        "At this point, we need to tune our model using various methods. However, if the testing accuracy is moderately good, then we have a good starting point."
      ]
    },
    {
      "cell_type": "markdown",
      "metadata": {
        "id": "uTIGl7ZArArr"
      },
      "source": [
        "## Make Predictions\n",
        "\n",
        "Let's try making some predictions with the trained model."
      ]
    },
    {
      "cell_type": "code",
      "execution_count": 36,
      "metadata": {
        "colab": {
          "base_uri": "https://localhost:8080/"
        },
        "id": "mH7qJaW0rArr",
        "outputId": "68fe1702-bb8b-442d-c510-bd5cc1b45e94"
      },
      "outputs": [
        {
          "name": "stdout",
          "output_type": "stream",
          "text": [
            "\u001b[1m225/225\u001b[0m \u001b[32m━━━━━━━━━━━━━━━━━━━━\u001b[0m\u001b[37m\u001b[0m \u001b[1m3s\u001b[0m 12ms/step\n"
          ]
        }
      ],
      "source": [
        "preds = model.predict(test_images)"
      ]
    },
    {
      "cell_type": "code",
      "execution_count": 37,
      "metadata": {
        "colab": {
          "base_uri": "https://localhost:8080/"
        },
        "id": "8mrudi-PrArr",
        "outputId": "ef75249a-fbfe-4f9a-93f3-fd71f6a21338"
      },
      "outputs": [
        {
          "data": {
            "text/plain": [
              "array([2.0612869e-15, 1.9207066e-16, 8.0886110e-11, 5.3044760e-12,\n",
              "       5.5869883e-12, 1.9867210e-05, 9.9996084e-01, 6.3337509e-08,\n",
              "       8.9579121e-17, 8.7211127e-09, 1.0637309e-10, 2.2046584e-14,\n",
              "       1.6155774e-13, 1.6015346e-06, 3.9856949e-09, 1.1900257e-13,\n",
              "       1.7298415e-15, 3.2215491e-10, 1.7533772e-05, 4.8047096e-18,\n",
              "       8.1097790e-10, 4.3036091e-12, 9.8657420e-09, 1.2879185e-16],\n",
              "      dtype=float32)"
            ]
          },
          "execution_count": 37,
          "metadata": {},
          "output_type": "execute_result"
        }
      ],
      "source": [
        "preds[0]"
      ]
    },
    {
      "cell_type": "code",
      "execution_count": 38,
      "metadata": {
        "colab": {
          "base_uri": "https://localhost:8080/"
        },
        "id": "LOCGQnBMrArr",
        "outputId": "51f5c79c-3ad0-450a-bc52-fe1b58af85ae"
      },
      "outputs": [
        {
          "data": {
            "text/plain": [
              "6"
            ]
          },
          "execution_count": 38,
          "metadata": {},
          "output_type": "execute_result"
        }
      ],
      "source": [
        "np.argmax(preds[0])"
      ]
    },
    {
      "cell_type": "code",
      "execution_count": 39,
      "metadata": {
        "colab": {
          "base_uri": "https://localhost:8080/"
        },
        "id": "i6IleA4rrArr",
        "outputId": "053ce629-e058-4766-8a5b-ca1404933d33"
      },
      "outputs": [
        {
          "name": "stdout",
          "output_type": "stream",
          "text": [
            "6\n",
            "G\n"
          ]
        }
      ],
      "source": [
        "print(test_labels[0])\n",
        "print(class_names[test_labels[0]])"
      ]
    },
    {
      "cell_type": "markdown",
      "metadata": {
        "id": "hSgoxRF8rArr"
      },
      "source": [
        "### Plot predictions\n",
        "\n",
        "These helper functions actually help us plot the image with the corresponding prediction."
      ]
    },
    {
      "cell_type": "code",
      "execution_count": 40,
      "metadata": {
        "id": "bNfmFvWYrArr"
      },
      "outputs": [],
      "source": [
        "def plot_image(i, predictions_array, true_label, img):\n",
        "    predictions_array, true_label, img = predictions_array[i], true_label[i], img[i]\n",
        "    plt.grid(False)\n",
        "    plt.xticks([])\n",
        "    plt.yticks([])\n",
        "\n",
        "    plt.imshow(img, cmap=plt.cm.binary)\n",
        "\n",
        "    predicted_label = np.argmax(predictions_array)\n",
        "    if predicted_label == true_label:\n",
        "        color = 'blue'\n",
        "    else:\n",
        "        color = 'red'\n",
        "\n",
        "    plt.xlabel(\"{} {:2.0f}% ({})\".format(class_names[predicted_label],\n",
        "                                100*np.max(predictions_array),\n",
        "                                class_names[true_label]),\n",
        "                                color=color)\n",
        "\n",
        "def plot_value_array(i, predictions_array, true_label):\n",
        "    predictions_array, true_label = predictions_array[i], true_label[i]\n",
        "    plt.grid(False)\n",
        "    plt.xticks(range(24),class_names)\n",
        "    plt.yticks([])\n",
        "    thisplot = plt.bar(range(24), predictions_array, color=\"#777777\")\n",
        "    plt.ylim([0, 1])\n",
        "    predicted_label = np.argmax(predictions_array)\n",
        "\n",
        "    thisplot[predicted_label].set_color('red')\n",
        "    thisplot[true_label].set_color('blue')"
      ]
    },
    {
      "cell_type": "markdown",
      "metadata": {
        "id": "_-LjW6xxrArr"
      },
      "source": [
        "In order to visualize the images, we need to reshape it to the size of `28x28`."
      ]
    },
    {
      "cell_type": "code",
      "execution_count": 41,
      "metadata": {
        "colab": {
          "base_uri": "https://localhost:8080/"
        },
        "id": "kwYxrwU0rArr",
        "outputId": "56700c7d-f79e-4160-c589-66e264d4f00b"
      },
      "outputs": [
        {
          "data": {
            "text/plain": [
              "(7172, 28, 28)"
            ]
          },
          "execution_count": 41,
          "metadata": {},
          "output_type": "execute_result"
        }
      ],
      "source": [
        "test_images = test_images.reshape(test_images.shape[0], 28, 28)\n",
        "test_images.shape"
      ]
    },
    {
      "cell_type": "code",
      "execution_count": 42,
      "metadata": {
        "colab": {
          "base_uri": "https://localhost:8080/"
        },
        "id": "tSo338W-rArr",
        "outputId": "d107aa60-be03-4fe7-8fc1-35714e3f4183"
      },
      "outputs": [
        {
          "data": {
            "text/plain": [
              "(7172,)"
            ]
          },
          "execution_count": 42,
          "metadata": {},
          "output_type": "execute_result"
        }
      ],
      "source": [
        "test_labels.shape"
      ]
    },
    {
      "cell_type": "markdown",
      "metadata": {
        "id": "N9ZOC-ssrArr"
      },
      "source": [
        "Now, let's give a try on a specific prediction on the testing set. Try modifying the number of i, make sure that the range of values is `0,7171`."
      ]
    },
    {
      "cell_type": "code",
      "execution_count": 43,
      "metadata": {
        "colab": {
          "base_uri": "https://localhost:8080/",
          "height": 445
        },
        "id": "PM6YzJzmrArs",
        "outputId": "66581403-5334-4847-a49c-716842ce58cd"
      },
      "outputs": [
        {
          "data": {
            "image/png": "[encoded data removed]",
            "text/plain": [
              "<Figure size 1400x500 with 2 Axes>"
            ]
          },
          "metadata": {},
          "output_type": "display_data"
        }
      ],
      "source": [
        "i = 1\n",
        "plt.figure(figsize=(14,5))\n",
        "plt.subplot(1,2,1)\n",
        "plot_image(i, preds, test_labels, test_images)\n",
        "plt.subplot(1,2,2)\n",
        "plot_value_array(i, preds, test_labels)\n",
        "plt.show()"
      ]
    },
    {
      "cell_type": "code",
      "execution_count": 50,
      "metadata": {
        "colab": {
          "base_uri": "https://localhost:8080/"
        },
        "id": "Mk4H2J5KutGB",
        "outputId": "e11f4659-bb7f-4c18-e114-6d307a84dab1"
      },
      "outputs": [
        {
          "name": "stderr",
          "output_type": "stream",
          "text": [
            "WARNING:absl:Compiled the loaded model, but the compiled metrics have yet to be built. `model.compile_metrics` will be empty until you train or evaluate the model.\n"
          ]
        },
        {
          "name": "stdout",
          "output_type": "stream",
          "text": [
            "Error: Camera not accessible.\n"
          ]
        }
      ],
      "source": [
        "import cv2\n",
        "import numpy as np\n",
        "from tensorflow.keras.models import load_model\n",
        "\n",
        "# Load your trained model\n",
        "model = load_model('my_model.h5')  # Replace with your model file\n",
        "class_names = [...]  # Define your class names here\n",
        "\n",
        "# Initialize the webcam\n",
        "cap = cv2.VideoCapture(0)\n",
        "\n",
        "if not cap.isOpened():\n",
        "    print(\"Error: Camera not accessible.\")\n",
        "else:\n",
        "    while True:\n",
        "        # Capture frame-by-frame\n",
        "        ret, frame = cap.read()\n",
        "\n",
        "        if not ret:\n",
        "            print(\"Error: Unable to capture video frame.\")\n",
        "            break  # Break the loop if frame is not captured\n",
        "\n",
        "        # Convert the frame to grayscale\n",
        "        gray_frame = cv2.cvtColor(frame, cv2.COLOR_BGR2GRAY)\n",
        "\n",
        "        # Resize the frame to 28x28 pixels\n",
        "        resized_frame = cv2.resize(gray_frame, (28, 28))\n",
        "\n",
        "        # Normalize the image data\n",
        "        normalized_frame = resized_frame / 255.0\n",
        "\n",
        "        # Expand dimensions to match the model's input shape\n",
        "        input_frame = np.expand_dims(normalized_frame, axis=(0, -1))  # Shape: (1, 28, 28, 1)\n",
        "\n",
        "        # Make predictions\n",
        "        predictions = model.predict(input_frame)\n",
        "        predicted_label = np.argmax(predictions)\n",
        "\n",
        "        # Display the predicted label on the frame\n",
        "        cv2.putText(frame, f'Predicted: {class_names[predicted_label]}', (10, 30),\n",
        "                    cv2.FONT_HERSHEY_SIMPLEX, 1, (0, 255, 0), 2)\n",
        "\n",
        "        # Show the frame\n",
        "        cv2.imshow('Sign Language Recognition', frame)\n",
        "\n",
        "        # Break the loop on 'q' key press\n",
        "        if cv2.waitKey(1) & 0xFF == ord('q'):\n",
        "            break\n",
        "\n"
      ]
    },
    {
      "cell_type": "markdown",
      "metadata": {
        "_uuid": "9eb678647d643867930b4beb7135672ac811fdb4",
        "collapsed": true,
        "id": "V2dQptzxrArs"
      },
      "source": [
        "# Congratulations !\n",
        "\n",
        "You have just performed a very first, simple deep learning model! Let's keep your curiousity up and perform further projects as you go further !\n",
        "\n",
        "## Further works\n",
        "\n",
        "Try playing with different combination of hyperparameters of the network. For instance, try different activation functions and different loss functions."
      ]
    },
    {
      "cell_type": "markdown",
      "metadata": {
        "id": "xT_tIgBqrArs"
      },
      "source": [
        "## References\n",
        "\n",
        "- [Keras-Tensorflow-Basic Classification](https://www.tensorflow.org/tutorials/keras/basic_classification)\n",
        "- [Kaggle-Deep Learning for Sign Language](https://www.kaggle.com/ranjeetjain3/deep-learning-using-sign-langugage)"
      ]
    }
  ],
  "metadata": {
    "colab": {
      "provenance": []
    },
    "kernelspec": {
      "display_name": "Python 3",
      "language": "python",
      "name": "python3"
    },
    "language_info": {
      "codemirror_mode": {
        "name": "ipython",
        "version": 3
      },
      "file_extension": ".py",
      "mimetype": "text/x-python",
      "name": "python",
      "nbconvert_exporter": "python",
      "pygments_lexer": "ipython3",
      "version": "3.7.4"
    }
  },
  "nbformat": 4,
  "nbformat_minor": 0
}
